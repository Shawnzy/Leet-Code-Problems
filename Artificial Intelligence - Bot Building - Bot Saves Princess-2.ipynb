{
 "cells": [
  {
   "attachments": {},
   "cell_type": "markdown",
   "metadata": {},
   "source": [
    "# Bot saves princess - 2\n",
    "\n",
    "In this version of \"Bot saves princess\", Princess Peach and bot's position are randomly set. Can you save the princess?\n",
    "\n",
    "### Task\n",
    "Complete the function nextMove which takes in 4 parameters - an integer N, integers r and c indicating the row & column position of the bot and the character array grid - and outputs the next move the bot makes to rescue the princess.\n",
    "\n",
    "### Input Format\n",
    "The first line of the input is N (<100), the size of the board (NxN). The second line of the input contains two space separated integers, which is the position of the bot.\n",
    "\n",
    "Grid is indexed using Matrix Convention\n",
    "\n",
    "The position of the princess is indicated by the character 'p' and the position of the bot is indicated by the character 'm' and each cell is denoted by '-' (ascii value: 45).\n",
    "\n",
    "### Output Format\n",
    "Output only the next move you take to rescue the princess. Valid moves are LEFT, RIGHT, UP or DOWN"
   ]
  },
  {
   "attachments": {},
   "cell_type": "markdown",
   "metadata": {},
   "source": [
    "### Sample Input\n",
    "```\n",
    "5\n",
    "2 3\n",
    "-----\n",
    "-----\n",
    "p--m-\n",
    "-----\n",
    "-----\n",
    "```"
   ]
  },
  {
   "attachments": {},
   "cell_type": "markdown",
   "metadata": {},
   "source": [
    "### Sample Output\n",
    "```\n",
    "LEFT\n",
    "```"
   ]
  },
  {
   "attachments": {},
   "cell_type": "markdown",
   "metadata": {},
   "source": [
    "### Resultant State\n",
    "```\n",
    "-----\n",
    "-----\n",
    "p-m--\n",
    "-----\n",
    "-----\n",
    "```"
   ]
  },
  {
   "attachments": {},
   "cell_type": "markdown",
   "metadata": {},
   "source": [
    "### Explanation\n",
    "As you can see, bot is one step closer to the princess.\n",
    "\n",
    "### Scoring\n",
    "Your score for every testcase would be (NxN minus number of moves made to rescue the princess)/10 where N is the size of the grid (5x5 in the sample testcase). Maximum score is 17.5"
   ]
  },
  {
   "attachments": {},
   "cell_type": "markdown",
   "metadata": {},
   "source": [
    "### Given\n",
    "\n",
    "```\n",
    "#\n",
    "\n",
    "def nextMove(n,r,c,grid):\n",
    "    return \"\"\n",
    "\n",
    "n = int(input())\n",
    "r,c = [int(i) for i in input().strip().split()]\n",
    "grid = []\n",
    "for i in range(0, n):\n",
    "    grid.append(input())\n",
    "\n",
    "print(nextMove(n,r,c,grid))\n",
    "```"
   ]
  },
  {
   "attachments": {},
   "cell_type": "markdown",
   "metadata": {},
   "source": [
    "### Code"
   ]
  },
  {
   "cell_type": "code",
   "execution_count": 10,
   "metadata": {},
   "outputs": [],
   "source": [
    "def nextMove(n,r,c,grid):\n",
    "    # Find 'p' coords\n",
    "    try:\n",
    "        for i in range(n):\n",
    "            for j in range(n):\n",
    "                #print(grid[i][j])\n",
    "                \n",
    "                if grid[i][j] == 'p':\n",
    "                    p_r, p_c = i, j\n",
    "                    raise Exception\n",
    "    \n",
    "    except Exception:\n",
    "        pass\n",
    "    \n",
    "    if r < p_r:\n",
    "        return 'DOWN'\n",
    "    elif r > p_r:\n",
    "        return 'UP'\n",
    "    elif c < p_c:\n",
    "        return 'RIGHT'\n",
    "    else:\n",
    "        return 'LEFT'\n"
   ]
  },
  {
   "attachments": {},
   "cell_type": "markdown",
   "metadata": {},
   "source": [
    "### Test Code"
   ]
  },
  {
   "cell_type": "code",
   "execution_count": 11,
   "metadata": {},
   "outputs": [
    {
     "name": "stdout",
     "output_type": "stream",
     "text": [
      "LEFT\n"
     ]
    }
   ],
   "source": [
    "\n",
    "n = 5\n",
    "r,c = [2,3]\n",
    "grid = [\n",
    "    ['-','-','-','-','-'],\n",
    "    ['-','-','-','-','-'],\n",
    "    ['p','-','-','m','-'],\n",
    "    ['-','-','-','-','-'],\n",
    "    ['-','-','-','-','-']\n",
    "]\n",
    "\n",
    "\n",
    "print(nextMove(n,r,c,grid))\n",
    "\n",
    "# Answer\n",
    "# LEFT"
   ]
  },
  {
   "attachments": {},
   "cell_type": "markdown",
   "metadata": {},
   "source": [
    "## SOLVED!"
   ]
  },
  {
   "cell_type": "markdown",
   "metadata": {},
   "source": []
  }
 ],
 "metadata": {
  "kernelspec": {
   "display_name": "Python 3",
   "language": "python",
   "name": "python3"
  },
  "language_info": {
   "codemirror_mode": {
    "name": "ipython",
    "version": 3
   },
   "file_extension": ".py",
   "mimetype": "text/x-python",
   "name": "python",
   "nbconvert_exporter": "python",
   "pygments_lexer": "ipython3",
   "version": "3.10.7"
  },
  "orig_nbformat": 4,
  "vscode": {
   "interpreter": {
    "hash": "26de051ba29f2982a8de78e945f0abaf191376122a1563185a90213a26c5da77"
   }
  }
 },
 "nbformat": 4,
 "nbformat_minor": 2
}
