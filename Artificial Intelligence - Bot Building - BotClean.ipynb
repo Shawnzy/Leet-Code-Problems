{
 "cells": [
  {
   "attachments": {},
   "cell_type": "markdown",
   "metadata": {},
   "source": [
    "# Botclean\n",
    "\n",
    "The goal of Artificial Intelligence is to create a rational agent (Artificial Intelligence 1.1.4). An agent gets input from the environment through sensors and acts on the environment with actuators. In this challenge, you will program a simple bot to perform the correct actions based on environmental input.\n",
    "\n",
    "Meet the bot MarkZoid. It's a cleaning bot whose sensor is a head mounted camera and whose actuators are the wheels beneath it. It's used to clean the floor.\n",
    "\n",
    "The bot here is positioned at the top left corner of a 5*5 grid. Your task is to move the bot to clean all the dirty cells.\n",
    "\n",
    "### Input Format\n",
    "\n",
    "The first line contains two space separated integers which indicate the current position of the bot.\n",
    "The board is indexed using Matrix Convention\n",
    "5 lines follow representing the grid. Each cell in the grid is represented by any of the following 3 characters: 'b' (ascii value 98) indicates the bot's current position, 'd' (ascii value 100) indicates a dirty cell and '-' (ascii value 45) indicates a clean cell in the grid.\n",
    "\n",
    "**Note** If the bot is on a dirty cell, the cell will still have 'd' on it.\n",
    "\n",
    "### Output Format\n",
    "\n",
    "The output is the action that is taken by the bot in the current step, and it can be either one of the movements in 4 directions or cleaning up the cell in which it is currently located. The valid output strings are LEFT, RIGHT, UP and DOWN or CLEAN. If the bot ever reaches a dirty cell, output CLEAN to clean the dirty cell. Repeat this process until all the cells on the grid are cleaned."
   ]
  },
  {
   "attachments": {},
   "cell_type": "markdown",
   "metadata": {},
   "source": [
    "### Sample Input #00\n",
    "```\n",
    "0 0\n",
    "b---d\n",
    "-d--d\n",
    "--dd-\n",
    "--d--\n",
    "----d\n",
    "```\n",
    "\n",
    "### Sample Output #00\n",
    "```\n",
    "RIGHT\n",
    "```\n",
    "\n",
    "### Resultant State #00\n",
    "```\n",
    "-b--d\n",
    "-d--d\n",
    "--dd-\n",
    "--d--\n",
    "----d\n",
    "```"
   ]
  },
  {
   "attachments": {},
   "cell_type": "markdown",
   "metadata": {},
   "source": [
    "### Sample Input #01\n",
    "```\n",
    "0 1\n",
    "-b--d\n",
    "-d--d\n",
    "--dd-\n",
    "--d--\n",
    "----d\n",
    "```\n",
    "\n",
    "### Sample Output #01\n",
    "```\n",
    "DOWN\n",
    "```\n",
    "\n",
    "### Resultant State\n",
    "```\n",
    "----d\n",
    "-d--d\n",
    "--dd-\n",
    "--d--\n",
    "----d\n",
    "```"
   ]
  },
  {
   "attachments": {},
   "cell_type": "markdown",
   "metadata": {},
   "source": [
    "### Task\n",
    "\n",
    "Complete the function next_move that takes in 3 parameters posr, posc being the co-ordinates of the bot's current position and board which indicates the board state to print the bot's next move.\n",
    "\n",
    "The codechecker will keep calling the function next_move till the game is over or you make an invalid move.\n",
    "\n",
    "### Scoring\n",
    "\n",
    "Your score is (200 - number of moves the bot makes)/40. CLEAN is considered a move as well.\n",
    "\n",
    "Once you submit, your bot will be played on four grids with three of the grid configurations unknown to you. The final score will be the sum of the scores obtained in each of the four grids.\n",
    "\n",
    "### Education Links\n",
    "\n",
    "Introduction to AI by Stuart Russell and Peter Norvig\n",
    "Motor cognition - https://www.hackerrank.com/external_redirect?to=https://en.wikipedia.org/wiki/Motor_cognition\n"
   ]
  },
  {
   "attachments": {},
   "cell_type": "markdown",
   "metadata": {},
   "source": [
    "### Given\n",
    "\n",
    "```\n",
    "#!/usr/bin/python\n",
    "\n",
    "# Head ends here\n",
    "\n",
    "def next_move(posr, posc, board):\n",
    "    print(\"\")\n",
    "```"
   ]
  },
  {
   "attachments": {},
   "cell_type": "markdown",
   "metadata": {},
   "source": [
    "### Code"
   ]
  },
  {
   "cell_type": "code",
   "execution_count": 1,
   "metadata": {},
   "outputs": [],
   "source": [
    "def next_move(posr, posc, board):\n",
    "    if board[posr][posc]=='d':\n",
    "        action = 'CLEAN'\n",
    "    elif posc in [0,4] and 'd' not in board[posr]:\n",
    "        action = 'DOWN'\n",
    "    elif ((2+posr) % 2) == 0:\n",
    "        action = 'RIGHT'\n",
    "    else:\n",
    "        action = 'LEFT'\n",
    "        \n",
    "    print(action)\n",
    "    return action\n"
   ]
  },
  {
   "cell_type": "code",
   "execution_count": 1,
   "metadata": {},
   "outputs": [
    {
     "ename": "",
     "evalue": "",
     "output_type": "error",
     "traceback": [
      "\u001b[1;31mCanceled future for execute_request message before replies were done"
     ]
    },
    {
     "ename": "",
     "evalue": "",
     "output_type": "error",
     "traceback": [
      "\u001b[1;31mThe Kernel crashed while executing code in the the current cell or a previous cell. Please review the code in the cell(s) to identify a possible cause of the failure. Click <a href='https://aka.ms/vscodeJupyterKernelCrash'>here</a> for more info. View Jupyter <a href='command:jupyter.viewOutput'>log</a> for further details."
     ]
    }
   ],
   "source": [
    "#!/usr/bin/python\n",
    "posr = 0\n",
    "posc = 0\n",
    "board = [\n",
    "    ['b','-','-','-','d'],\n",
    "    ['-','d','-','-','d'],\n",
    "    ['-','-','d','d','-'],\n",
    "    ['-','-','d','-','-'],\n",
    "    ['-','-','-','-','d']\n",
    "]\n",
    "# Head ends here\n",
    "def find_dirt(board):\n",
    "    dirt = []\n",
    "    for i in range(len(board)):\n",
    "        for j in range(len(board[0])):\n",
    "            if board[i][j] == 'd':\n",
    "                dirt.append((i,j))\n",
    "    return dirt\n",
    "\n",
    "def permutations(dirty_cells):\n",
    "    #if len(dirty_cells) == 0: return []\n",
    "    if len(dirty_cells) <= 1: return dirty_cells\n",
    "    l = []\n",
    "    for i in range(len(dirty_cells)):\n",
    "        m = dirty_cells[i]\n",
    "        rem_dirty_cells = dirty_cells[:1] + dirty_cells[i+1:]\n",
    "        \n",
    "        for p in permutations(rem_dirty_cells):\n",
    "            l.append([m] + p)\n",
    "    return l\n",
    "    \n",
    "    \n",
    "#def next_move(posr, posc, board):\n",
    "\n",
    "cells = find_dirt(board)\n",
    "x = permutations(cells)\n",
    "for y in x: \n",
    "    print(y)\n",
    "print('done')"
   ]
  },
  {
   "cell_type": "code",
   "execution_count": null,
   "metadata": {},
   "outputs": [],
   "source": []
  },
  {
   "attachments": {},
   "cell_type": "markdown",
   "metadata": {},
   "source": [
    "### Testing"
   ]
  },
  {
   "cell_type": "code",
   "execution_count": 3,
   "metadata": {},
   "outputs": [
    {
     "name": "stdout",
     "output_type": "stream",
     "text": [
      "RIGHT\n"
     ]
    },
    {
     "data": {
      "text/plain": [
       "'RIGHT'"
      ]
     },
     "execution_count": 3,
     "metadata": {},
     "output_type": "execute_result"
    }
   ],
   "source": [
    "# Test 1\n",
    "\n",
    "posr = 0\n",
    "posc = 0\n",
    "board = [\n",
    "    ['b','-','-','-','d'],\n",
    "    ['-','d','-','-','d'],\n",
    "    ['-','-','d','d','-'],\n",
    "    ['-','-','d','-','-'],\n",
    "    ['-','-','-','-','d']\n",
    "]\n",
    "\n",
    "next_move(posr, posc, board)\n",
    "\n",
    "#assert next_move(posr, posc, board) == 'RIGHT'"
   ]
  },
  {
   "cell_type": "code",
   "execution_count": 4,
   "metadata": {},
   "outputs": [
    {
     "name": "stdout",
     "output_type": "stream",
     "text": [
      "RIGHT\n"
     ]
    }
   ],
   "source": [
    "# Test 2\n",
    "\n",
    "posr = 0\n",
    "posc = 0\n",
    "board = [\n",
    "    ['-','b','-','-','d'],\n",
    "    ['-','d','-','-','d'],\n",
    "    ['-','-','d','d','-'],\n",
    "    ['-','-','d','-','-'],\n",
    "    ['-','-','-','-','d']\n",
    "]\n",
    "\n",
    "assert next_move(posr, posc, board) == 'RIGHT'"
   ]
  },
  {
   "cell_type": "markdown",
   "metadata": {},
   "source": [
    "## SOLVED!"
   ]
  },
  {
   "cell_type": "markdown",
   "metadata": {},
   "source": []
  }
 ],
 "metadata": {
  "kernelspec": {
   "display_name": "Python 3",
   "language": "python",
   "name": "python3"
  },
  "language_info": {
   "codemirror_mode": {
    "name": "ipython",
    "version": 3
   },
   "file_extension": ".py",
   "mimetype": "text/x-python",
   "name": "python",
   "nbconvert_exporter": "python",
   "pygments_lexer": "ipython3",
   "version": "3.10.7"
  },
  "orig_nbformat": 4,
  "vscode": {
   "interpreter": {
    "hash": "26de051ba29f2982a8de78e945f0abaf191376122a1563185a90213a26c5da77"
   }
  }
 },
 "nbformat": 4,
 "nbformat_minor": 2
}
