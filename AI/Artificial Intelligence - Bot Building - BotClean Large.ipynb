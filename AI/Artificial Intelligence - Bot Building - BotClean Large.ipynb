{
 "cells": [
  {
   "cell_type": "markdown",
   "source": [
    "# *BotClean Large*\n",
    "MegaMaid is a robot whose function is to move through a matrix and clean all of its dirty cells. It's positioned in some cell of an  matrix of dirty (d) and clean (-) cells. It can perform five types of operations:\n",
    "\n",
    "- *LEFT*: Move one cell to the left.\n",
    "- *RIGHT*: Move one cell to the right.\n",
    "- *UP*: Move one cell up.\n",
    "- *DOWN*: Move one cell down.\n",
    "- *CLEAN*: Clean the cell.\n",
    "\n",
    "Given the robot's current location and the configuration of dirty and clean cells in the matrix, print the next operation MegaMaid will perform (e.g., UP, CLEAN, etc.) on a new line.\n",
    "\n",
    "### *Input Format*\n",
    "The first line contains two space-separated integers describing the respective x(row) and y(column) coordinates of MegaMaid's initial location.\n",
    "The second line contains two space-separated integers describing the respective height, h, and width, w, of the matrix.\n",
    "Each line i of the h subsequent lines contains a string of w characters describing row i in the matrix; each character j describes the character at location (i,j) according to the following key:\n",
    "\n",
    "* b denotes MegaMaid's location (in a clean cell).\n",
    "* d denotes a dirty cell.\n",
    "* -- denotes a clean cell.\n",
    "\n",
    "*Note*: If MegaMaid is initially located in a dirty cell, the cell will be marked with a d (not a b).\n",
    "\n",
    "### *Constraints*\n",
    "* 1 <= w <= 50\n",
    "* 1 <= h <= 50\n",
    "\n",
    "### *Output Format*\n",
    "Print the next operation MegaMaid will perform (i.e., LEFT, RIGHT, UP, DOWN, CLEAN). It's important to only print the next operation, because your program will be called iteratively after performing each operation.\n",
    "\n",
    "### *Sample Input*\n",
    "0 0\n",
    "5 5\n",
    "b---d\n",
    "-d--d\n",
    "--dd-\n",
    "--d--\n",
    "----d\n",
    "\n",
    "### *Sample Output*\n",
    "RIGHT\n",
    "\n",
    "### *Explanation*\n",
    "MegaMaid's next move would be to move RIGHT, resulting in the following next state:\n",
    "\n",
    "-b--d\n",
    "-d--d\n",
    "--dd-\n",
    "--d--\n",
    "----d"
   ],
   "metadata": {
    "collapsed": false
   }
  },
  {
   "cell_type": "code",
   "execution_count": 5,
   "outputs": [],
   "source": [
    "def find_next_dirt(board):\n",
    "    for i in range(len(board)):\n",
    "        for j in range(len(board[0])):\n",
    "            if board[i][j] == 'd':\n",
    "                return i, j\n",
    "\n",
    "def next_move(posx, posy, dimx, dimy, board):\n",
    "    if board[posx][posy] == 'd':\n",
    "        print('CLEAN')\n",
    "        return\n",
    "\n",
    "    x, y = find_next_dirt(board)\n",
    "\n",
    "    if x > posx:\n",
    "        print('DOWN')\n",
    "        return 'DOWN'\n",
    "    elif x < posx:\n",
    "        print('UP')\n",
    "        return 'UP'\n",
    "    elif y > posy:\n",
    "        print('RIGHT')\n",
    "        return 'RIGHT'\n",
    "    else:\n",
    "        print('LEFT')\n",
    "        return 'LEFT'"
   ],
   "metadata": {
    "collapsed": false
   }
  },
  {
   "cell_type": "code",
   "execution_count": 6,
   "outputs": [
    {
     "name": "stdout",
     "output_type": "stream",
     "text": [
      "LEFT\n"
     ]
    }
   ],
   "source": [
    "# Test 1\n",
    "\n",
    "posx = 0\n",
    "posy = 3\n",
    "dimx = 5\n",
    "dimy = 7\n",
    "board = [\n",
    "    ['-','d','b','-','-'],\n",
    "    ['-','d','-','-','-'],\n",
    "    ['-','-','d','d','-'],\n",
    "    ['d','-','-','d','-'],\n",
    "    ['-','d','-','d','-'],\n",
    "    ['-','-','-','d','-'],\n",
    "    ['-','-','d','-','d']\n",
    "]\n",
    "\n",
    "\n",
    "assert next_move(posx, posy, dimx, dimy, board) == 'LEFT'"
   ],
   "metadata": {
    "collapsed": false
   }
  },
  {
   "cell_type": "code",
   "execution_count": null,
   "outputs": [],
   "source": [],
   "metadata": {
    "collapsed": false
   }
  }
 ],
 "metadata": {
  "kernelspec": {
   "display_name": "Python 3",
   "language": "python",
   "name": "python3"
  },
  "language_info": {
   "codemirror_mode": {
    "name": "ipython",
    "version": 2
   },
   "file_extension": ".py",
   "mimetype": "text/x-python",
   "name": "python",
   "nbconvert_exporter": "python",
   "pygments_lexer": "ipython2",
   "version": "2.7.6"
  }
 },
 "nbformat": 4,
 "nbformat_minor": 0
}
