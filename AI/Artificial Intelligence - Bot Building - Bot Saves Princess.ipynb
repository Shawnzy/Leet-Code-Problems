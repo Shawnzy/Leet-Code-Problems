{
 "cells": [
  {
   "attachments": {},
   "cell_type": "markdown",
   "metadata": {},
   "source": [
    "# Bot Saves Princess\n",
    "Princess Peach is trapped in one of the four corners of a square grid. You are in the center of the grid and can move one step at a time in any of the four directions. Can you rescue the princess?\n",
    "\n",
    "\n",
    "### Input format\n",
    "The first line contains an odd integer N (3 <= N < 100) denoting the size of the grid. This is followed by an NxN grid. Each cell is denoted by '-' (ascii value: 45). The bot position is denoted by 'm' and the princess position is denoted by 'p'.\n",
    "\n",
    "Grid is indexed using Matrix Convention\n",
    "\n",
    "\n",
    "### Output format\n",
    "Print out the moves you will take to rescue the princess in one go. The moves must be separated by '\\n', a newline. The valid moves are LEFT or RIGHT or UP or DOWN.\n",
    "\n",
    "\n",
    "### Sample Input\n",
    " 3 <br>\n",
    " --- <br>\n",
    " -m- <br>\n",
    " p--\n",
    "\n",
    "\n",
    "### Sample Output\n",
    "DOWN <br>\n",
    "LEFT\n",
    "\n",
    "\n",
    "### Task\n",
    "Complete the function displayPathtoPrincess which takes in two parameters - the integer N and the character array grid. The grid will be formatted exactly as you see it in the input, so for the sample input the princess is at grid[2][0]. The function shall output moves (LEFT, RIGHT, UP or DOWN) on consecutive lines to rescue/reach the princess. The goal is to reach the princess in as few moves as possible.\n",
    "\n",
    "The above sample input is just to help you understand the format. The princess ('p') can be in any one of the four corners.\n",
    "\n",
    "\n",
    "### Scoring\n",
    "Your score is calculated as follows : (NxN - number of moves made to rescue the princess)/10, where N is the size of the grid (3x3 in the sample testcase)."
   ]
  },
  {
   "attachments": {},
   "cell_type": "markdown",
   "metadata": {},
   "source": [
    "### Given\n",
    "\n",
    "```\n",
    "#!/usr/bin/python\n",
    "\n",
    "def displayPathtoPrincess(n,grid):\n",
    "#print all the moves here\n",
    "\n",
    "m = int(input())\n",
    "grid = [] \n",
    "for i in range(0, m): \n",
    "    grid.append(input().strip())\n",
    "\n",
    "displayPathtoPrincess(m,grid)\n",
    "```"
   ]
  },
  {
   "attachments": {},
   "cell_type": "markdown",
   "metadata": {},
   "source": [
    "### Code"
   ]
  },
  {
   "cell_type": "code",
   "execution_count": 5,
   "metadata": {},
   "outputs": [],
   "source": [
    "#!/usr/bin/python\n",
    "\n",
    "def displayPathtoPrincess(n,grid):\n",
    "    #Check corners until 'p' is found\n",
    "    if grid[0][0] == 'p':\n",
    "        dir1 = 'LEFT'\n",
    "        dir2 = 'UP'\n",
    "        \n",
    "    elif grid[n-1][0] == 'p':\n",
    "        dir1 = 'LEFT'\n",
    "        dir2 = 'DOWN'\n",
    "        \n",
    "    if grid[0][n-1] == 'p':\n",
    "        dir1 = 'RIGHT'\n",
    "        dir2 = 'UP'\n",
    "        \n",
    "    if grid[n-1][n-1] == 'p':\n",
    "        dir1 = 'RIGHT'\n",
    "        dir2 = 'DOWN'\n",
    "        \n",
    "    num_moves = int((n-1)/2)\n",
    "    \n",
    "    for i in range(num_moves):\n",
    "        print(f'{dir1}\\n{dir2}')\n",
    "    \n"
   ]
  },
  {
   "attachments": {},
   "cell_type": "markdown",
   "metadata": {},
   "source": [
    "### Testing"
   ]
  },
  {
   "cell_type": "code",
   "execution_count": 6,
   "metadata": {},
   "outputs": [
    {
     "name": "stdout",
     "output_type": "stream",
     "text": [
      "LEFT\n",
      "DOWN\n",
      "LEFT\n",
      "DOWN\n"
     ]
    }
   ],
   "source": [
    "# Test Input\n",
    "m = 5\n",
    "grid = [\n",
    "    ['-','-','-','-','-'],\n",
    "    ['-','-','-','-','-'],\n",
    "    ['-','-','m','-','-'],\n",
    "    ['-','-','-','-','-'],\n",
    "    ['p','-','-','-','-']\n",
    "] \n",
    "\n",
    "\n",
    "displayPathtoPrincess(m,grid)\n",
    "\n",
    "#Answer)\n",
    "# LEFT\n",
    "# DOWN\n",
    "# LEFT\n",
    "# DOWN"
   ]
  },
  {
   "attachments": {},
   "cell_type": "markdown",
   "metadata": {},
   "source": [
    "## SOLVED!"
   ]
  }
 ],
 "metadata": {
  "kernelspec": {
   "display_name": "Python 3",
   "language": "python",
   "name": "python3"
  },
  "language_info": {
   "codemirror_mode": {
    "name": "ipython",
    "version": 3
   },
   "file_extension": ".py",
   "mimetype": "text/x-python",
   "name": "python",
   "nbconvert_exporter": "python",
   "pygments_lexer": "ipython3",
   "version": "3.10.7 (tags/v3.10.7:6cc6b13, Sep  5 2022, 14:08:36) [MSC v.1933 64 bit (AMD64)]"
  },
  "orig_nbformat": 4,
  "vscode": {
   "interpreter": {
    "hash": "26de051ba29f2982a8de78e945f0abaf191376122a1563185a90213a26c5da77"
   }
  }
 },
 "nbformat": 4,
 "nbformat_minor": 2
}
